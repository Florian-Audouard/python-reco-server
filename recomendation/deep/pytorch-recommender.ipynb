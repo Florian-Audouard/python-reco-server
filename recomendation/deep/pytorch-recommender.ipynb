{
 "cells": [
  {
   "cell_type": "markdown",
   "metadata": {},
   "source": [
    "<p style=\"font-size: 18px;\">\n",
    "  This is the accompanying code for the post titled \"Recommender Systems with PyTorch. From Data to Decisions: A Journey Through AI-Powered Recommendations\"<br>\n",
    "  You can find it <a href=\"https://pureai.substack.com/p/recommender-systems-with-pytorch\">here</a>.<br>\n",
    "  Published: December 23, 2023<br>\n",
    "  <a href=\"https://pureai.substack.com\">https://pureai.substack.com</a>\n",
    "</p>\n"
   ]
  },
  {
   "cell_type": "markdown",
   "metadata": {},
   "source": [
    "Welcome to this Jupyter notebook! If you're new to Python or don't have it installed on your system, don't worry; you can still follow along and explore the code.\n",
    "\n",
    "Here's a quick guide to getting started:\n",
    "\n",
    "-   Using an Online Platform: You can run this notebook in a web browser using platforms like Google Colab or Binder. These services offer free access to Jupyter notebooks and don't require any installation.\n",
    "-   Installing Python Locally: If you'd prefer to run this notebook on your own machine, you'll need to install Python. A popular distribution for scientific computing is Anaconda, which includes Python, Jupyter, and other useful tools.\n",
    "    -   Download Anaconda from [here](https://www.anaconda.com/download).\n",
    "    -   Follow the installation instructions for your operating system.\n",
    "    -   Launch Jupyter Notebook from Anaconda Navigator or by typing jupyter notebook in your command line or terminal.\n",
    "-   Opening the Notebook: Once you have Jupyter running, navigate to the location of this notebook file (.ipynb) and click on it to open.\n",
    "-   Running the Code: You can run each cell in the notebook by selecting it and pressing Shift + Enter. Feel free to modify the code and experiment with it.\n",
    "-   Need More Help?: If you're new to Python or Jupyter notebooks, you might find these resources helpful:\n",
    "    -   [Python.org's Beginner's Guide](https://docs.python.org/3/tutorial/index.html)\n",
    "    -   [Jupyter Notebook Basics](https://jupyter-notebook.readthedocs.io/en/stable/examples/Notebook/Notebook%20Basics.html)\n",
    "\n",
    "\\*Note: this Notebook/Code feature the use of Poetry, a dependency and virtual environment manager. If you don't have Poetry, please install it via the Python package manager pip. Then change directories to this code, and run `poetry install --no-root`, which will install all of th required dependencies for you. You then select the poetry virtual environment as your Python kernel.\n",
    "\n",
    "Happy coding, and enjoy exploring the fascinating world of Recommender Systems with PyTorch!\n"
   ]
  },
  {
   "cell_type": "code",
   "execution_count": 230,
   "metadata": {},
   "outputs": [],
   "source": [
    "import pandas as pd\n",
    "import numpy as np\n",
    "from sklearn import model_selection, preprocessing\n",
    "import torch\n",
    "import torch.nn as nn\n",
    "import matplotlib.pyplot as plt\n",
    "from torch.utils.data import Dataset, DataLoader\n",
    "import sys"
   ]
  },
  {
   "cell_type": "markdown",
   "metadata": {},
   "source": [
    "Let's set the device depending upon if you have a GPU or not.\n"
   ]
  },
  {
   "cell_type": "code",
   "execution_count": 231,
   "metadata": {},
   "outputs": [
    {
     "name": "stdout",
     "output_type": "stream",
     "text": [
      "cuda\n"
     ]
    }
   ],
   "source": [
    "device = torch.device(\"cuda\" if torch.cuda.is_available() else \"cpu\")\n",
    "print(device)"
   ]
  },
  {
   "cell_type": "markdown",
   "metadata": {},
   "source": [
    "You'll need to download the MovieLens 'small' dataset from <a href=\"https://grouplens.org/datasets/movielens/latest/\">here</a>. Place the dataset folder titled 'ml-latest-small' in the same directory as the code.\n"
   ]
  },
  {
   "cell_type": "code",
   "execution_count": 232,
   "metadata": {},
   "outputs": [
    {
     "data": {
      "text/html": [
       "<div>\n",
       "<style scoped>\n",
       "    .dataframe tbody tr th:only-of-type {\n",
       "        vertical-align: middle;\n",
       "    }\n",
       "\n",
       "    .dataframe tbody tr th {\n",
       "        vertical-align: top;\n",
       "    }\n",
       "\n",
       "    .dataframe thead th {\n",
       "        text-align: right;\n",
       "    }\n",
       "</style>\n",
       "<table border=\"1\" class=\"dataframe\">\n",
       "  <thead>\n",
       "    <tr style=\"text-align: right;\">\n",
       "      <th></th>\n",
       "      <th>userId</th>\n",
       "      <th>movieId</th>\n",
       "      <th>rating</th>\n",
       "      <th>timestamp</th>\n",
       "    </tr>\n",
       "  </thead>\n",
       "  <tbody>\n",
       "    <tr>\n",
       "      <th>0</th>\n",
       "      <td>1</td>\n",
       "      <td>1</td>\n",
       "      <td>4.0</td>\n",
       "      <td>964982703</td>\n",
       "    </tr>\n",
       "    <tr>\n",
       "      <th>1</th>\n",
       "      <td>1</td>\n",
       "      <td>3</td>\n",
       "      <td>4.0</td>\n",
       "      <td>964981247</td>\n",
       "    </tr>\n",
       "    <tr>\n",
       "      <th>2</th>\n",
       "      <td>1</td>\n",
       "      <td>6</td>\n",
       "      <td>4.0</td>\n",
       "      <td>964982224</td>\n",
       "    </tr>\n",
       "    <tr>\n",
       "      <th>3</th>\n",
       "      <td>1</td>\n",
       "      <td>47</td>\n",
       "      <td>5.0</td>\n",
       "      <td>964983815</td>\n",
       "    </tr>\n",
       "    <tr>\n",
       "      <th>4</th>\n",
       "      <td>1</td>\n",
       "      <td>50</td>\n",
       "      <td>5.0</td>\n",
       "      <td>964982931</td>\n",
       "    </tr>\n",
       "  </tbody>\n",
       "</table>\n",
       "</div>"
      ],
      "text/plain": [
       "   userId  movieId  rating  timestamp\n",
       "0       1        1     4.0  964982703\n",
       "1       1        3     4.0  964981247\n",
       "2       1        6     4.0  964982224\n",
       "3       1       47     5.0  964983815\n",
       "4       1       50     5.0  964982931"
      ]
     },
     "execution_count": 232,
     "metadata": {},
     "output_type": "execute_result"
    }
   ],
   "source": [
    "df = pd.read_csv(\"ratings.csv\")\n",
    "\n",
    "df.head()"
   ]
  },
  {
   "cell_type": "markdown",
   "metadata": {},
   "source": [
    "Let's do a little bit of an exploration of our dataset to better understand it.\n"
   ]
  },
  {
   "cell_type": "code",
   "execution_count": 233,
   "metadata": {},
   "outputs": [
    {
     "data": {
      "text/html": [
       "<div>\n",
       "<style scoped>\n",
       "    .dataframe tbody tr th:only-of-type {\n",
       "        vertical-align: middle;\n",
       "    }\n",
       "\n",
       "    .dataframe tbody tr th {\n",
       "        vertical-align: top;\n",
       "    }\n",
       "\n",
       "    .dataframe thead th {\n",
       "        text-align: right;\n",
       "    }\n",
       "</style>\n",
       "<table border=\"1\" class=\"dataframe\">\n",
       "  <thead>\n",
       "    <tr style=\"text-align: right;\">\n",
       "      <th></th>\n",
       "      <th>userId</th>\n",
       "      <th>movieId</th>\n",
       "      <th>rating</th>\n",
       "      <th>timestamp</th>\n",
       "    </tr>\n",
       "  </thead>\n",
       "  <tbody>\n",
       "    <tr>\n",
       "      <th>count</th>\n",
       "      <td>100836.000000</td>\n",
       "      <td>100836.000000</td>\n",
       "      <td>100836.000000</td>\n",
       "      <td>1.008360e+05</td>\n",
       "    </tr>\n",
       "    <tr>\n",
       "      <th>mean</th>\n",
       "      <td>326.127564</td>\n",
       "      <td>19435.295718</td>\n",
       "      <td>3.501557</td>\n",
       "      <td>1.205946e+09</td>\n",
       "    </tr>\n",
       "    <tr>\n",
       "      <th>std</th>\n",
       "      <td>182.618491</td>\n",
       "      <td>35530.987199</td>\n",
       "      <td>1.042529</td>\n",
       "      <td>2.162610e+08</td>\n",
       "    </tr>\n",
       "    <tr>\n",
       "      <th>min</th>\n",
       "      <td>1.000000</td>\n",
       "      <td>1.000000</td>\n",
       "      <td>0.500000</td>\n",
       "      <td>8.281246e+08</td>\n",
       "    </tr>\n",
       "    <tr>\n",
       "      <th>25%</th>\n",
       "      <td>177.000000</td>\n",
       "      <td>1199.000000</td>\n",
       "      <td>3.000000</td>\n",
       "      <td>1.019124e+09</td>\n",
       "    </tr>\n",
       "    <tr>\n",
       "      <th>50%</th>\n",
       "      <td>325.000000</td>\n",
       "      <td>2991.000000</td>\n",
       "      <td>3.500000</td>\n",
       "      <td>1.186087e+09</td>\n",
       "    </tr>\n",
       "    <tr>\n",
       "      <th>75%</th>\n",
       "      <td>477.000000</td>\n",
       "      <td>8122.000000</td>\n",
       "      <td>4.000000</td>\n",
       "      <td>1.435994e+09</td>\n",
       "    </tr>\n",
       "    <tr>\n",
       "      <th>max</th>\n",
       "      <td>610.000000</td>\n",
       "      <td>193609.000000</td>\n",
       "      <td>5.000000</td>\n",
       "      <td>1.537799e+09</td>\n",
       "    </tr>\n",
       "  </tbody>\n",
       "</table>\n",
       "</div>"
      ],
      "text/plain": [
       "              userId        movieId         rating     timestamp\n",
       "count  100836.000000  100836.000000  100836.000000  1.008360e+05\n",
       "mean      326.127564   19435.295718       3.501557  1.205946e+09\n",
       "std       182.618491   35530.987199       1.042529  2.162610e+08\n",
       "min         1.000000       1.000000       0.500000  8.281246e+08\n",
       "25%       177.000000    1199.000000       3.000000  1.019124e+09\n",
       "50%       325.000000    2991.000000       3.500000  1.186087e+09\n",
       "75%       477.000000    8122.000000       4.000000  1.435994e+09\n",
       "max       610.000000  193609.000000       5.000000  1.537799e+09"
      ]
     },
     "execution_count": 233,
     "metadata": {},
     "output_type": "execute_result"
    }
   ],
   "source": [
    "df.describe()"
   ]
  },
  {
   "cell_type": "code",
   "execution_count": 234,
   "metadata": {},
   "outputs": [
    {
     "data": {
      "text/plain": [
       "userId       0\n",
       "movieId      0\n",
       "rating       0\n",
       "timestamp    0\n",
       "dtype: int64"
      ]
     },
     "execution_count": 234,
     "metadata": {},
     "output_type": "execute_result"
    }
   ],
   "source": [
    "df.isnull().sum()"
   ]
  },
  {
   "cell_type": "code",
   "execution_count": 235,
   "metadata": {},
   "outputs": [
    {
     "data": {
      "text/plain": [
       "(610, 9724)"
      ]
     },
     "execution_count": 235,
     "metadata": {},
     "output_type": "execute_result"
    }
   ],
   "source": [
    "df.userId.nunique(), df.movieId.nunique()"
   ]
  },
  {
   "cell_type": "markdown",
   "metadata": {},
   "source": [
    "We have 610 unique uderIds and 9724 unique movieIds.\n"
   ]
  },
  {
   "cell_type": "code",
   "execution_count": 236,
   "metadata": {},
   "outputs": [
    {
     "data": {
      "text/plain": [
       "rating\n",
       "4.0    26818\n",
       "3.0    20047\n",
       "5.0    13211\n",
       "3.5    13136\n",
       "4.5     8551\n",
       "2.0     7551\n",
       "2.5     5550\n",
       "1.0     2811\n",
       "1.5     1791\n",
       "0.5     1370\n",
       "Name: count, dtype: int64"
      ]
     },
     "execution_count": 236,
     "metadata": {},
     "output_type": "execute_result"
    }
   ],
   "source": [
    "df.rating.value_counts()"
   ]
  },
  {
   "cell_type": "markdown",
   "metadata": {},
   "source": [
    "Let's plot a quick histogram of the number of ratings versus their counts.\n"
   ]
  },
  {
   "cell_type": "code",
   "execution_count": 237,
   "metadata": {},
   "outputs": [
    {
     "data": {
      "image/png": "[encoded data removed]",
      "text/plain": [
       "<Figure size 800x600 with 1 Axes>"
      ]
     },
     "metadata": {},
     "output_type": "display_data"
    }
   ],
   "source": [
    "plt.figure(figsize=(8, 6))\n",
    "plt.hist(df.rating)\n",
    "plt.xlabel(\"Rating\")\n",
    "plt.ylabel(\"Count\")\n",
    "plt.title(\"Count of Ratings\")\n",
    "plt.show()"
   ]
  },
  {
   "cell_type": "markdown",
   "metadata": {},
   "source": [
    "Let's now define the MovieLensDataset class.\n"
   ]
  },
  {
   "cell_type": "code",
   "execution_count": 238,
   "metadata": {},
   "outputs": [],
   "source": [
    "class MovieLensDataset(Dataset):\n",
    "    \"\"\"\n",
    "    The Movie Lens Dataset class. This class prepares the dataset for training and validation.\n",
    "    \"\"\"\n",
    "\n",
    "    def __init__(self, users, movies, ratings):\n",
    "        \"\"\"\n",
    "        Initializes the dataset object with user, movie, and rating data.\n",
    "        \"\"\"\n",
    "        self.users = users\n",
    "        self.movies = movies\n",
    "        self.ratings = ratings\n",
    "\n",
    "    def __len__(self):\n",
    "        \"\"\"\n",
    "        Returns the total number of samples in the dataset.\n",
    "        \"\"\"\n",
    "        return len(self.users)\n",
    "\n",
    "    def __getitem__(self, item):\n",
    "        \"\"\"\n",
    "        Retrieves a sample from the dataset at the specified index.\n",
    "        \"\"\"\n",
    "        users = self.users[item]\n",
    "        movies = self.movies[item]\n",
    "        ratings = self.ratings[item]\n",
    "\n",
    "        return {\n",
    "            \"users\": torch.tensor(users, dtype=torch.long),\n",
    "            \"movies\": torch.tensor(movies, dtype=torch.long),\n",
    "            \"ratings\": torch.tensor(ratings, dtype=torch.float),\n",
    "        }"
   ]
  },
  {
   "cell_type": "markdown",
   "metadata": {},
   "source": [
    "And now let's define the RecommendationSystemModel neural network in PyTorch.\n"
   ]
  },
  {
   "cell_type": "code",
   "execution_count": 239,
   "metadata": {},
   "outputs": [],
   "source": [
    "class RecommendationSystemModel(nn.Module):\n",
    "    def __init__(\n",
    "        self,\n",
    "        num_users,\n",
    "        num_movies,\n",
    "        embedding_size=256,\n",
    "        hidden_dim=256,\n",
    "        dropout_rate=0.2,\n",
    "    ):\n",
    "        super(RecommendationSystemModel, self).__init__()\n",
    "        self.num_users = num_users\n",
    "        self.num_movies = num_movies\n",
    "        self.embedding_size = embedding_size\n",
    "        self.hidden_dim = hidden_dim\n",
    "\n",
    "        # Embedding layers\n",
    "        self.user_embedding = nn.Embedding(\n",
    "            num_embeddings=self.num_users, embedding_dim=self.embedding_size\n",
    "        )\n",
    "        self.movie_embedding = nn.Embedding(\n",
    "            num_embeddings=self.num_movies, embedding_dim=self.embedding_size\n",
    "        )\n",
    "\n",
    "        # Hidden layers\n",
    "        self.fc1 = nn.Linear(2 * self.embedding_size, self.hidden_dim)\n",
    "        self.fc2 = nn.Linear(self.hidden_dim, 1)\n",
    "\n",
    "        # Dropout layer\n",
    "        self.dropout = nn.Dropout(p=dropout_rate)\n",
    "\n",
    "        # Activation function\n",
    "        self.relu = nn.ReLU()\n",
    "\n",
    "    def forward(self, users, movies):\n",
    "        # Embeddings\n",
    "        user_embedded = self.user_embedding(users)\n",
    "        movie_embedded = self.movie_embedding(movies)\n",
    "\n",
    "        # Concatenate user and movie embeddings\n",
    "        combined = torch.cat([user_embedded, movie_embedded], dim=1)\n",
    "\n",
    "        # Pass through hidden layers with ReLU activation and dropout\n",
    "        x = self.relu(self.fc1(combined))\n",
    "        x = self.dropout(x)\n",
    "        output = self.fc2(x)\n",
    "\n",
    "        return output"
   ]
  },
  {
   "cell_type": "code",
   "execution_count": 240,
   "metadata": {},
   "outputs": [],
   "source": [
    "from sklearn.model_selection import train_test_split\n",
    "\n",
    "\n",
    "def __user_based_split(group, test_size):\n",
    "    if len(group) < 5:\n",
    "        return group, pd.DataFrame()  # skip splitting small groups\n",
    "    return train_test_split(group, test_size=test_size, shuffle=False)\n",
    "\n",
    "\n",
    "def smart_split(df, test_size=0.2):\n",
    "    \"\"\"\n",
    "    Split a DataFrame into two parts based on a given ratio.\n",
    "\n",
    "    Args:\n",
    "        df (pd.DataFrame): DataFrame to split.\n",
    "        ratio (float): Ratio for splitting the DataFrame.\n",
    "\n",
    "    Returns:\n",
    "        tuple: Tuple containing two DataFrames (train_df, test_df).\n",
    "    \"\"\"\n",
    "    train_list = []\n",
    "    val_list = []\n",
    "\n",
    "    for _, user_group in df.groupby(\"userId\"):\n",
    "        train, val = __user_based_split(user_group, test_size=test_size)\n",
    "        train_list.append(train)\n",
    "        val_list.append(val)\n",
    "\n",
    "    train_df = pd.concat(train_list)\n",
    "    val_df = pd.concat(val_list)\n",
    "    return train_df, val_df"
   ]
  },
  {
   "cell_type": "markdown",
   "metadata": {},
   "source": [
    "We move to define our train and validation datasets.\n"
   ]
  },
  {
   "cell_type": "code",
   "execution_count": 241,
   "metadata": {},
   "outputs": [],
   "source": [
    "le_user = preprocessing.LabelEncoder()\n",
    "le_movie = preprocessing.LabelEncoder()\n",
    "df.userId = le_user.fit_transform(df.userId.values)\n",
    "df.movieId = le_movie.fit_transform(df.movieId.values)\n",
    "\n",
    "df_train, df_val = model_selection.train_test_split(\n",
    "    df, test_size=0.1, random_state=3, stratify=df.rating.values\n",
    ")\n",
    "\n",
    "train_dataset = MovieLensDataset(\n",
    "    users=df_train.userId.values,\n",
    "    movies=df_train.movieId.values,\n",
    "    ratings=df_train.rating.values,\n",
    ")\n",
    "\n",
    "valid_dataset = MovieLensDataset(\n",
    "    users=df_val.userId.values,\n",
    "    movies=df_val.movieId.values,\n",
    "    ratings=df_val.rating.values,\n",
    ")"
   ]
  },
  {
   "cell_type": "markdown",
   "metadata": {},
   "source": [
    "We now move to create the dataloaders that will be used during training and inference.\n"
   ]
  },
  {
   "cell_type": "code",
   "execution_count": 242,
   "metadata": {},
   "outputs": [],
   "source": [
    "BATCH_SIZE = 32\n",
    "\n",
    "train_loader = DataLoader(train_dataset, batch_size=BATCH_SIZE, shuffle=True)\n",
    "val_loader = DataLoader(valid_dataset, batch_size=BATCH_SIZE, shuffle=True)"
   ]
  },
  {
   "cell_type": "markdown",
   "metadata": {},
   "source": [
    "We create the recommendation model as well as define the optimizer and loss function.\n"
   ]
  },
  {
   "cell_type": "code",
   "execution_count": 243,
   "metadata": {},
   "outputs": [],
   "source": [
    "recommendation_model = RecommendationSystemModel(\n",
    "    num_users=len(le_user.classes_),\n",
    "    num_movies=len(le_movie.classes_),\n",
    "    embedding_size=64,\n",
    "    hidden_dim=128,\n",
    "    dropout_rate=0.1,\n",
    ").to(device)\n",
    "\n",
    "optimizer = torch.optim.Adam(recommendation_model.parameters(), lr=1e-3)\n",
    "loss_func = nn.MSELoss()"
   ]
  },
  {
   "cell_type": "markdown",
   "metadata": {},
   "source": [
    "We define a function to log the training progress.\n"
   ]
  },
  {
   "cell_type": "code",
   "execution_count": 244,
   "metadata": {},
   "outputs": [],
   "source": [
    "EPOCHS = 2\n",
    "\n",
    "\n",
    "# Function to log progress\n",
    "def log_progress(epoch, step, total_loss, log_progress_step, data_size, losses):\n",
    "    avg_loss = total_loss / log_progress_step\n",
    "    sys.stderr.write(\n",
    "        f\"\\r{epoch+1:02d}/{EPOCHS:02d} | Step: {step}/{data_size} | Avg Loss: {avg_loss:<6.9f}\"\n",
    "    )\n",
    "    sys.stderr.flush()\n",
    "    losses.append(avg_loss)"
   ]
  },
  {
   "cell_type": "markdown",
   "metadata": {},
   "source": [
    "The following is our training loop that will train our network over 2 epochs.\n"
   ]
  },
  {
   "cell_type": "code",
   "execution_count": 245,
   "metadata": {},
   "outputs": [
    {
     "name": "stderr",
     "output_type": "stream",
     "text": [
      "01/02 | Step: 800/90752 | Avg Loss: 2.596027350"
     ]
    },
    {
     "name": "stdout",
     "output_type": "stream",
     "text": [
      "Training on 90752 samples...\n"
     ]
    },
    {
     "name": "stderr",
     "output_type": "stream",
     "text": [
      "02/02 | Step: 2400/90752 | Avg Loss: 0.2218769013"
     ]
    },
    {
     "name": "stdout",
     "output_type": "stream",
     "text": [
      "Epoch 1, Loss: 1.1320126486156656\n"
     ]
    },
    {
     "name": "stderr",
     "output_type": "stream",
     "text": [
      "02/02 | Step: 90752/90752 | Avg Loss: 0.094087909"
     ]
    },
    {
     "name": "stdout",
     "output_type": "stream",
     "text": [
      "Epoch 2, Loss: 0.8389910471182952\n"
     ]
    }
   ],
   "source": [
    "total_loss = 0\n",
    "log_progress_step = 100\n",
    "losses = []\n",
    "train_dataset_size = len(train_dataset)\n",
    "print(f\"Training on {train_dataset_size} samples...\")\n",
    "\n",
    "recommendation_model.train()\n",
    "for e in range(EPOCHS):\n",
    "    epoch_loss = 0\n",
    "    step_count = 0  # Reset step count at the beginning of each epoch\n",
    "    for i, train_data in enumerate(train_loader):\n",
    "        output = recommendation_model(\n",
    "            train_data[\"users\"].to(device), train_data[\"movies\"].to(device)\n",
    "        )\n",
    "        # Reshape the model output to match the target's shape\n",
    "        output = output.squeeze()  # Removes the singleton dimension\n",
    "        ratings = (\n",
    "            train_data[\"ratings\"].to(torch.float32).to(device)\n",
    "        )  # Assuming ratings is already 1D\n",
    "\n",
    "        loss = loss_func(output, ratings)\n",
    "        total_loss += loss.sum().item()\n",
    "        epoch_loss += loss.sum().item()\n",
    "        optimizer.zero_grad()\n",
    "        loss.backward()\n",
    "        optimizer.step()\n",
    "\n",
    "        # Increment step count by the actual size of the batch\n",
    "        step_count += len(train_data[\"users\"])\n",
    "\n",
    "        # Check if it's time to log progress\n",
    "        if (\n",
    "            step_count % log_progress_step == 0 or i == len(train_loader) - 1\n",
    "        ):  # Log at the end of each epoch\n",
    "            log_progress(\n",
    "                e, step_count, total_loss, log_progress_step, train_dataset_size, losses\n",
    "            )\n",
    "            total_loss = 0\n",
    "    print(f\"Epoch {e+1}, Loss: {epoch_loss / len(train_loader)}\")"
   ]
  },
  {
   "cell_type": "markdown",
   "metadata": {},
   "source": [
    "After training, plot the average losses. We should expect to see a decrease in the loss as training ocurrs.\n"
   ]
  },
  {
   "cell_type": "code",
   "execution_count": 246,
   "metadata": {},
   "outputs": [
    {
     "data": {
      "image/png": "[encoded data removed]",
      "text/plain": [
       "<Figure size 640x480 with 1 Axes>"
      ]
     },
     "metadata": {},
     "output_type": "display_data"
    }
   ],
   "source": [
    "plt.figure()\n",
    "plt.plot(losses)\n",
    "plt.xlabel(\"Steps\")\n",
    "plt.ylabel(\"Avg Loss\")\n",
    "plt.show()"
   ]
  },
  {
   "cell_type": "markdown",
   "metadata": {},
   "source": [
    "We will compute the Root Mean Squared Error between our predicted values versus the true values of the ratings.\n"
   ]
  },
  {
   "cell_type": "code",
   "execution_count": 247,
   "metadata": {},
   "outputs": [
    {
     "name": "stdout",
     "output_type": "stream",
     "text": [
      "RMSE: 0.9112\n"
     ]
    }
   ],
   "source": [
    "from sklearn.metrics import mean_squared_error, root_mean_squared_error\n",
    "\n",
    "y_pred = []\n",
    "y_true = []\n",
    "\n",
    "recommendation_model.eval()\n",
    "\n",
    "with torch.no_grad():\n",
    "    for i, valid_data in enumerate(val_loader):\n",
    "        output = recommendation_model(\n",
    "            valid_data[\"users\"].to(device), valid_data[\"movies\"].to(device)\n",
    "        )\n",
    "        ratings = valid_data[\"ratings\"].to(device)\n",
    "        y_pred.extend(output.cpu().numpy())\n",
    "        y_true.extend(ratings.cpu().numpy())\n",
    "\n",
    "# Calculate RMSE\n",
    "rms = root_mean_squared_error(y_true, y_pred)\n",
    "print(f\"RMSE: {rms:.4f}\")"
   ]
  },
  {
   "cell_type": "markdown",
   "metadata": {},
   "source": [
    "For other metrics, we can look at the precision@k and recall@k. In the context of recommender systems, precision@k measures the proportion of recommended items in the top-k set that are relevant, while recall@k measures the proportion of relevant items found in the top-k recommendations.\n"
   ]
  },
  {
   "cell_type": "code",
   "execution_count": 248,
   "metadata": {},
   "outputs": [
    {
     "name": "stdout",
     "output_type": "stream",
     "text": [
      "User: 3,Movie: 1854 Predicted: 3.2296788692474365, True: 4.0\n",
      "User: 3,Movie: 681 Predicted: 4.0002875328063965, True: 4.0\n",
      "User: 3,Movie: 3147 Predicted: 3.5852692127227783, True: 5.0\n",
      "User: 3,Movie: 211 Predicted: 3.717604637145996, True: 3.0\n",
      "User: 3,Movie: 2380 Predicted: 3.6403844356536865, True: 4.0\n",
      "User: 3,Movie: 1389 Predicted: 3.4114139080047607, True: 3.0\n",
      "User: 3,Movie: 201 Predicted: 3.466789960861206, True: 2.0\n",
      "User: 3,Movie: 2827 Predicted: 3.126312494277954, True: 3.0\n",
      "User: 3,Movie: 1198 Predicted: 3.32936692237854, True: 1.0\n",
      "User: 3,Movie: 361 Predicted: 3.5107970237731934, True: 2.0\n",
      "User: 3,Movie: 897 Predicted: 3.8490326404571533, True: 5.0\n",
      "User: 3,Movie: 135 Predicted: 3.86045241355896, True: 5.0\n",
      "User: 3,Movie: 413 Predicted: 3.46610164642334, True: 5.0\n",
      "User: 3,Movie: 2284 Predicted: 3.5267717838287354, True: 4.0\n",
      "User: 3,Movie: 2019 Predicted: 4.016063690185547, True: 5.0\n",
      "User: 3,Movie: 2135 Predicted: 3.6051571369171143, True: 5.0\n",
      "User: 3,Movie: 2077 Predicted: 3.701899766921997, True: 4.0\n",
      "User: 3,Movie: 839 Predicted: 3.819959878921509, True: 5.0\n",
      "User: 3,Movie: 1112 Predicted: 3.7358620166778564, True: 5.0\n",
      "User: 3,Movie: 2306 Predicted: 3.255234956741333, True: 4.0\n"
     ]
    }
   ],
   "source": [
    "from collections import defaultdict\n",
    "\n",
    "\n",
    "def calculate_precision_recall(user_ratings, k, threshold):\n",
    "    user_ratings.sort(key=lambda x: x[0], reverse=True)\n",
    "    n_rel = sum(true_r >= threshold for _, true_r in user_ratings)\n",
    "    n_rec_k = sum(est >= threshold for est, _ in user_ratings[:k])\n",
    "    n_rel_and_rec_k = sum(\n",
    "        (true_r >= threshold) and (est >= threshold) for est, true_r in user_ratings[:k]\n",
    "    )\n",
    "\n",
    "    precision = n_rel_and_rec_k / n_rec_k if n_rec_k != 0 else 1\n",
    "    recall = n_rel_and_rec_k / n_rel if n_rel != 0 else 1\n",
    "    return precision, recall\n",
    "\n",
    "\n",
    "user_ratings_comparison = defaultdict(list)\n",
    "result = []\n",
    "with torch.no_grad():\n",
    "    for valid_data in val_loader:\n",
    "        users = valid_data[\"users\"].to(device)\n",
    "        movies = valid_data[\"movies\"].to(device)\n",
    "        ratings = valid_data[\"ratings\"].to(device)\n",
    "        output = recommendation_model(users, movies)\n",
    "\n",
    "        for user, pred, movie, true in zip(users, output, movies, ratings):\n",
    "            user_ratings_comparison[user.item()].append((pred[0].item(), true.item()))\n",
    "            if user.item() == 3:\n",
    "                print(\n",
    "                    f\"User: {user.item()},Movie: {movie.item()} Predicted: {pred[0].item()}, True: {true.item()}\"\n",
    "                )\n",
    "\n",
    "user_precisions = dict()\n",
    "user_based_recalls = dict()\n",
    "\n",
    "k = 1000000\n",
    "threshold = 3.5\n",
    "\n",
    "for user_id, user_ratings in user_ratings_comparison.items():\n",
    "    precision, recall = calculate_precision_recall(user_ratings, k, threshold)\n",
    "    user_precisions[user_id] = precision\n",
    "    user_based_recalls[user_id] = recall"
   ]
  },
  {
   "cell_type": "code",
   "execution_count": 249,
   "metadata": {},
   "outputs": [
    {
     "name": "stdout",
     "output_type": "stream",
     "text": [
      "precision @ 1000000: 0.7890\n",
      "recall @ 1000000: 0.7160\n"
     ]
    }
   ],
   "source": [
    "average_precision = sum(prec for prec in user_precisions.values()) / len(\n",
    "    user_precisions\n",
    ")\n",
    "average_recall = sum(rec for rec in user_based_recalls.values()) / len(\n",
    "    user_based_recalls\n",
    ")\n",
    "\n",
    "print(f\"precision @ {k}: {average_precision:.4f}\")\n",
    "print(f\"recall @ {k}: {average_recall:.4f}\")"
   ]
  },
  {
   "cell_type": "markdown",
   "metadata": {},
   "source": [
    "Let's now predict a user's top movies they haven't seen based on movies they rated highly:\n"
   ]
  },
  {
   "cell_type": "code",
   "execution_count": 250,
   "metadata": {},
   "outputs": [
    {
     "ename": "KeyError",
     "evalue": "\"['genres'] not in index\"",
     "output_type": "error",
     "traceback": [
      "\u001b[31m---------------------------------------------------------------------------\u001b[39m",
      "\u001b[31mKeyError\u001b[39m                                  Traceback (most recent call last)",
      "\u001b[36mCell\u001b[39m\u001b[36m \u001b[39m\u001b[32mIn[250]\u001b[39m\u001b[32m, line 45\u001b[39m\n\u001b[32m     40\u001b[39m recommendations = recommend_top_movies(\n\u001b[32m     41\u001b[39m     recommendation_model, user_id, all_movies, seen_movies, device\n\u001b[32m     42\u001b[39m )\n\u001b[32m     44\u001b[39m \u001b[38;5;66;03m# Get movie titles with genres for recommended and seen movies\u001b[39;00m\n\u001b[32m---> \u001b[39m\u001b[32m45\u001b[39m recommended_movies_with_genres = \u001b[43mget_movies_with_genres\u001b[49m\u001b[43m(\u001b[49m\u001b[43mrecommendations\u001b[49m\u001b[43m,\u001b[49m\u001b[43m \u001b[49m\u001b[43mdf_movies\u001b[49m\u001b[43m)\u001b[49m\n\u001b[32m     47\u001b[39m \u001b[38;5;66;03m# For the user's top 10 rated seen movies, get movies with genres\u001b[39;00m\n\u001b[32m     48\u001b[39m user_top_ten_seen_movies = (\n\u001b[32m     49\u001b[39m     df[df[\u001b[33m\"\u001b[39m\u001b[33muserId\u001b[39m\u001b[33m\"\u001b[39m] == user_id].sort_values(by=\u001b[33m\"\u001b[39m\u001b[33mrating\u001b[39m\u001b[33m\"\u001b[39m, ascending=\u001b[38;5;28;01mFalse\u001b[39;00m).head(\u001b[32m10\u001b[39m)\n\u001b[32m     50\u001b[39m )\n",
      "\u001b[36mCell\u001b[39m\u001b[36m \u001b[39m\u001b[32mIn[250]\u001b[39m\u001b[32m, line 25\u001b[39m, in \u001b[36mget_movies_with_genres\u001b[39m\u001b[34m(movie_ids, df_movies)\u001b[39m\n\u001b[32m     23\u001b[39m movies_with_genres = df_movies[df_movies[\u001b[33m\"\u001b[39m\u001b[33mmovieId\u001b[39m\u001b[33m\"\u001b[39m].isin(movie_ids)].copy()\n\u001b[32m     24\u001b[39m \u001b[38;5;66;03m# Concatenate movie titles with their genres\u001b[39;00m\n\u001b[32m---> \u001b[39m\u001b[32m25\u001b[39m movies_with_genres[\u001b[33m\"\u001b[39m\u001b[33mtitle_with_genres\u001b[39m\u001b[33m\"\u001b[39m] = \u001b[43mmovies_with_genres\u001b[49m\u001b[43m[\u001b[49m\n\u001b[32m     26\u001b[39m \u001b[43m    \u001b[49m\u001b[43m[\u001b[49m\u001b[33;43m\"\u001b[39;49m\u001b[33;43mtitle\u001b[39;49m\u001b[33;43m\"\u001b[39;49m\u001b[43m,\u001b[49m\u001b[43m \u001b[49m\u001b[33;43m\"\u001b[39;49m\u001b[33;43mgenres\u001b[39;49m\u001b[33;43m\"\u001b[39;49m\u001b[43m]\u001b[49m\n\u001b[32m     27\u001b[39m \u001b[43m\u001b[49m\u001b[43m]\u001b[49m.agg(\u001b[33m\"\u001b[39m\u001b[33m - \u001b[39m\u001b[33m\"\u001b[39m.join, axis=\u001b[32m1\u001b[39m)\n\u001b[32m     28\u001b[39m \u001b[38;5;28;01mreturn\u001b[39;00m movies_with_genres[\u001b[33m\"\u001b[39m\u001b[33mtitle_with_genres\u001b[39m\u001b[33m\"\u001b[39m].tolist()\n",
      "\u001b[36mFile \u001b[39m\u001b[32mc:\\Users\\nairo\\Documents\\WorkSpace\\python-reco-server\\.venv\\Lib\\site-packages\\pandas\\core\\frame.py:4108\u001b[39m, in \u001b[36mDataFrame.__getitem__\u001b[39m\u001b[34m(self, key)\u001b[39m\n\u001b[32m   4106\u001b[39m     \u001b[38;5;28;01mif\u001b[39;00m is_iterator(key):\n\u001b[32m   4107\u001b[39m         key = \u001b[38;5;28mlist\u001b[39m(key)\n\u001b[32m-> \u001b[39m\u001b[32m4108\u001b[39m     indexer = \u001b[38;5;28;43mself\u001b[39;49m\u001b[43m.\u001b[49m\u001b[43mcolumns\u001b[49m\u001b[43m.\u001b[49m\u001b[43m_get_indexer_strict\u001b[49m\u001b[43m(\u001b[49m\u001b[43mkey\u001b[49m\u001b[43m,\u001b[49m\u001b[43m \u001b[49m\u001b[33;43m\"\u001b[39;49m\u001b[33;43mcolumns\u001b[39;49m\u001b[33;43m\"\u001b[39;49m\u001b[43m)\u001b[49m[\u001b[32m1\u001b[39m]\n\u001b[32m   4110\u001b[39m \u001b[38;5;66;03m# take() does not accept boolean indexers\u001b[39;00m\n\u001b[32m   4111\u001b[39m \u001b[38;5;28;01mif\u001b[39;00m \u001b[38;5;28mgetattr\u001b[39m(indexer, \u001b[33m\"\u001b[39m\u001b[33mdtype\u001b[39m\u001b[33m\"\u001b[39m, \u001b[38;5;28;01mNone\u001b[39;00m) == \u001b[38;5;28mbool\u001b[39m:\n",
      "\u001b[36mFile \u001b[39m\u001b[32mc:\\Users\\nairo\\Documents\\WorkSpace\\python-reco-server\\.venv\\Lib\\site-packages\\pandas\\core\\indexes\\base.py:6200\u001b[39m, in \u001b[36mIndex._get_indexer_strict\u001b[39m\u001b[34m(self, key, axis_name)\u001b[39m\n\u001b[32m   6197\u001b[39m \u001b[38;5;28;01melse\u001b[39;00m:\n\u001b[32m   6198\u001b[39m     keyarr, indexer, new_indexer = \u001b[38;5;28mself\u001b[39m._reindex_non_unique(keyarr)\n\u001b[32m-> \u001b[39m\u001b[32m6200\u001b[39m \u001b[38;5;28;43mself\u001b[39;49m\u001b[43m.\u001b[49m\u001b[43m_raise_if_missing\u001b[49m\u001b[43m(\u001b[49m\u001b[43mkeyarr\u001b[49m\u001b[43m,\u001b[49m\u001b[43m \u001b[49m\u001b[43mindexer\u001b[49m\u001b[43m,\u001b[49m\u001b[43m \u001b[49m\u001b[43maxis_name\u001b[49m\u001b[43m)\u001b[49m\n\u001b[32m   6202\u001b[39m keyarr = \u001b[38;5;28mself\u001b[39m.take(indexer)\n\u001b[32m   6203\u001b[39m \u001b[38;5;28;01mif\u001b[39;00m \u001b[38;5;28misinstance\u001b[39m(key, Index):\n\u001b[32m   6204\u001b[39m     \u001b[38;5;66;03m# GH 42790 - Preserve name from an Index\u001b[39;00m\n",
      "\u001b[36mFile \u001b[39m\u001b[32mc:\\Users\\nairo\\Documents\\WorkSpace\\python-reco-server\\.venv\\Lib\\site-packages\\pandas\\core\\indexes\\base.py:6252\u001b[39m, in \u001b[36mIndex._raise_if_missing\u001b[39m\u001b[34m(self, key, indexer, axis_name)\u001b[39m\n\u001b[32m   6249\u001b[39m     \u001b[38;5;28;01mraise\u001b[39;00m \u001b[38;5;167;01mKeyError\u001b[39;00m(\u001b[33mf\u001b[39m\u001b[33m\"\u001b[39m\u001b[33mNone of [\u001b[39m\u001b[38;5;132;01m{\u001b[39;00mkey\u001b[38;5;132;01m}\u001b[39;00m\u001b[33m] are in the [\u001b[39m\u001b[38;5;132;01m{\u001b[39;00maxis_name\u001b[38;5;132;01m}\u001b[39;00m\u001b[33m]\u001b[39m\u001b[33m\"\u001b[39m)\n\u001b[32m   6251\u001b[39m not_found = \u001b[38;5;28mlist\u001b[39m(ensure_index(key)[missing_mask.nonzero()[\u001b[32m0\u001b[39m]].unique())\n\u001b[32m-> \u001b[39m\u001b[32m6252\u001b[39m \u001b[38;5;28;01mraise\u001b[39;00m \u001b[38;5;167;01mKeyError\u001b[39;00m(\u001b[33mf\u001b[39m\u001b[33m\"\u001b[39m\u001b[38;5;132;01m{\u001b[39;00mnot_found\u001b[38;5;132;01m}\u001b[39;00m\u001b[33m not in index\u001b[39m\u001b[33m\"\u001b[39m)\n",
      "\u001b[31mKeyError\u001b[39m: \"['genres'] not in index\""
     ]
    }
   ],
   "source": [
    "def recommend_top_movies(\n",
    "    model, user_id, all_movies, seen_movies, device, k=5, batch_size=100\n",
    "):\n",
    "    model.eval()\n",
    "    unseen_movies = [m for m in all_movies if m not in seen_movies]\n",
    "    predictions = []\n",
    "\n",
    "    with torch.no_grad():\n",
    "        for i in range(0, len(unseen_movies), batch_size):\n",
    "            batch_unseen_movies = unseen_movies[i : i + batch_size]\n",
    "            user_tensor = torch.tensor([user_id] * len(batch_unseen_movies)).to(device)\n",
    "            movie_tensor = torch.tensor(batch_unseen_movies).to(device)\n",
    "            predicted_ratings = model(user_tensor, movie_tensor).view(-1).tolist()\n",
    "            predictions.extend(zip(batch_unseen_movies, predicted_ratings))\n",
    "\n",
    "    predictions.sort(key=lambda x: x[1], reverse=True)\n",
    "    top_k_movies = [movie_id for movie_id, _ in predictions[:k]]\n",
    "    return top_k_movies\n",
    "\n",
    "\n",
    "def get_movies_with_genres(movie_ids, df_movies):\n",
    "    # Select the relevant movies and create a new DataFrame\n",
    "    movies_with_genres = df_movies[df_movies[\"movieId\"].isin(movie_ids)].copy()\n",
    "    # Concatenate movie titles with their genres\n",
    "    movies_with_genres[\"title_with_genres\"] = movies_with_genres[\n",
    "        [\"title\", \"genres\"]\n",
    "    ].agg(\" - \".join, axis=1)\n",
    "    return movies_with_genres[\"title_with_genres\"].tolist()\n",
    "\n",
    "\n",
    "# Load movie titles and genres\n",
    "df_movies = pd.read_csv(\"movies.csv\")\n",
    "\n",
    "# Prepare all_movies and seen_movies\n",
    "all_movies = df[\"movieId\"].unique().tolist()\n",
    "user_id = 1  # A random userId\n",
    "seen_movies = set(df[df[\"userId\"] == user_id][\"movieId\"].tolist())\n",
    "\n",
    "# Get recommendations\n",
    "recommendations = recommend_top_movies(\n",
    "    recommendation_model, user_id, all_movies, seen_movies, device\n",
    ")\n",
    "\n",
    "# Get movie titles with genres for recommended and seen movies\n",
    "recommended_movies_with_genres = get_movies_with_genres(recommendations, df_movies)\n",
    "\n",
    "# For the user's top 10 rated seen movies, get movies with genres\n",
    "user_top_ten_seen_movies = (\n",
    "    df[df[\"userId\"] == user_id].sort_values(by=\"rating\", ascending=False).head(10)\n",
    ")\n",
    "seen_movies_with_genres = get_movies_with_genres(\n",
    "    user_top_ten_seen_movies[\"movieId\"], df_movies\n",
    ")\n",
    "\n",
    "print(\n",
    "    f\"Recommended movies:\\n\\n{recommended_movies_with_genres}\\n\\nbased on these movies the user has watched:\\n\\n{seen_movies_with_genres}\"\n",
    ")"
   ]
  }
 ],
 "metadata": {
  "kernelspec": {
   "display_name": ".venv",
   "language": "python",
   "name": "python3"
  },
  "language_info": {
   "codemirror_mode": {
    "name": "ipython",
    "version": 3
   },
   "file_extension": ".py",
   "mimetype": "text/x-python",
   "name": "python",
   "nbconvert_exporter": "python",
   "pygments_lexer": "ipython3",
   "version": "3.12.3"
  },
  "orig_nbformat": 4
 },
 "nbformat": 4,
 "nbformat_minor": 2
}
